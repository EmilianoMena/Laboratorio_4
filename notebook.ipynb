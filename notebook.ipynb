{
 "cells": [
  {
   "cell_type": "code",
   "execution_count": 3,
   "metadata": {},
   "outputs": [
    {
     "data": {
      "text/plain": [
       "{'Timestamp': 0,\n",
       " 'Ask': 0,\n",
       " 'Bid': 0,\n",
       " 'Ask Volume': 0,\n",
       " 'Bid Volume': 0,\n",
       " 'Spread': 0,\n",
       " 'Close Price': 0}"
      ]
     },
     "execution_count": 3,
     "metadata": {},
     "output_type": "execute_result"
    }
   ],
   "source": [
    "d={\n",
    "        'Timestamp':0,\n",
    "            'Ask': 0,\n",
    "            'Bid': 0,\n",
    "            'Ask Volume': 0,\n",
    "            'Bid Volume': 0,\n",
    "            'Spread': 0,\n",
    "            'Close Price': 0\n",
    "    }\n",
    "d"
   ]
  }
 ],
 "metadata": {
  "kernelspec": {
   "display_name": "Python 3.10.6 ('venv': venv)",
   "language": "python",
   "name": "python3"
  },
  "language_info": {
   "codemirror_mode": {
    "name": "ipython",
    "version": 3
   },
   "file_extension": ".py",
   "mimetype": "text/x-python",
   "name": "python",
   "nbconvert_exporter": "python",
   "pygments_lexer": "ipython3",
   "version": "3.10.6"
  },
  "orig_nbformat": 4,
  "vscode": {
   "interpreter": {
    "hash": "2619d7fa6772592b5f49f4d26a69400120da0b4ba79d69e1476a60c334139516"
   }
  }
 },
 "nbformat": 4,
 "nbformat_minor": 2
}
