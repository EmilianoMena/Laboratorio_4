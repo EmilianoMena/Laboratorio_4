{
 "cells": [
  {
   "cell_type": "markdown",
   "metadata": {},
   "source": [
    "# Laboratorio 4: Microestructura del mercado\n",
    "Elaborado por: Emiliano Mena González\n",
    "\n",
    "Repositorio: https://github.com/EmilianoMena/Laboratorio_4"
   ]
  },
  {
   "cell_type": "markdown",
   "metadata": {},
   "source": [
    "## 0. Librerías y Dependencias\n",
    "Las principales librerias que se emplearon para el desarollo de este proyecto fueron:\n",
    "\n",
    "-CCXT: Libreria usada para el consumo de datos (Libro de Ordenes y datos historicos de los precios) de los diferentes exchanges de criptomonedas.\n",
    "\n",
    "-Pandas: Para elaborar dataframes con la información que se obtuvo.\n",
    "\n",
    "-Plotly: Con esta se elaboraron las visualizaciones."
   ]
  },
  {
   "cell_type": "markdown",
   "metadata": {},
   "source": [
    "## 1. Introducción\n",
    "En este laboratorio el objetivo fue observar diferentes exchanges y monedas (criptomonedas) para poder apreciar como es que se forma el mercado de estas mismas."
   ]
  },
  {
   "cell_type": "markdown",
   "metadata": {},
   "source": [
    "## 2. Objetivos\n",
    "Con este laboratorio se busca entender de mejor manera el mercado de las criptomonedas. Esto se logra gracias a la información que los Libros de Ordenes de Criptomonedas de diversos exchanges internacionales proveen, con estos datos se puede visualizar y modelar la microestructura del mercado."
   ]
  },
  {
   "cell_type": "markdown",
   "metadata": {},
   "source": [
    "## 3. Datos Utilizados\n",
    "Los Libros de Ordenes de los exchanges Cryptocom, Bitso y Binance para las criptomonedas BTC/USDT, DOGE/USDT y ETH/USDT."
   ]
  },
  {
   "cell_type": "markdown",
   "metadata": {},
   "source": [
    "## 4. Procesos\n",
    "Primero crear las funciones para poder obtener la información de los Libros de Ordenes y del OHLCV (Open, High, Low, Close and Volume). Después se calculo el Spread, VWAP, Mid Price y Effective Spread de Roll. Y se generaron de igual forma graficas para apreciar de mejor manera el mercado."
   ]
  },
  {
   "cell_type": "markdown",
   "metadata": {},
   "source": [
    "## 5. Conclusión\n",
    "Si bien las criptomonedas son de cierta forma recientes, es impresionante ver como ya se puede entender de mejor forma el mercado de estas. El ver como opera el mercado y su comportamiento permite que se aprecie de mejor forma como evolucionara este mismo. En lo personal no habia visto casi nada acerca de las criptomonedas y con este laboratorio aprendí acerca de las microestructruras que tiene el mercado. También algo interesante para destacar es que casi siempre las personas se van con solo el precio en el que se encuentra un activo pero también es importante ver el volumen pues si no hay gran volumen va a haber problemas con el riesgo de liquidez"
   ]
  }
 ],
 "metadata": {
  "kernelspec": {
   "display_name": "Python 3.10.6 ('venv': venv)",
   "language": "python",
   "name": "python3"
  },
  "language_info": {
   "codemirror_mode": {
    "name": "ipython",
    "version": 3
   },
   "file_extension": ".py",
   "mimetype": "text/x-python",
   "name": "python",
   "nbconvert_exporter": "python",
   "pygments_lexer": "ipython3",
   "version": "3.10.6"
  },
  "orig_nbformat": 4,
  "vscode": {
   "interpreter": {
    "hash": "2619d7fa6772592b5f49f4d26a69400120da0b4ba79d69e1476a60c334139516"
   }
  }
 },
 "nbformat": 4,
 "nbformat_minor": 2
}
